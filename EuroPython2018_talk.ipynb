{
 "cells": [
  {
   "cell_type": "markdown",
   "metadata": {
    "slideshow": {
     "slide_type": "slide"
    }
   },
   "source": [
    "# Let’s embrace WebAssembly!\n",
    "\n",
    "EuroPython 2018 - Edinburgh\n",
    "\n",
    "Almar Klein\n",
    "\n",
    "<img src='images/wasm.png' width=100 align=right>\n",
    "<img src='images/python.png' width=100 align=right>\n"
   ]
  },
  {
   "cell_type": "markdown",
   "metadata": {
    "slideshow": {
     "slide_type": "slide"
    }
   },
   "source": [
    "# What is WebAssembly?\n",
    "\n",
    "<img src='images/wasm.png' align=right width=300>\n",
    "\n",
    "(BTW: WebAssembly == WASM)"
   ]
  },
  {
   "cell_type": "markdown",
   "metadata": {
    "slideshow": {
     "slide_type": "slide"
    }
   },
   "source": [
    "# WASM is an OPEN standard ...\n",
    "\n",
    "<br>\n",
    "<div style='display:flex; width:100%; justify-content:space-around; align-items:center;'>\n",
    "<img src='images/group.png' style='height:200px; width:200px;'>\n",
    "<img src='images/rocket.png' style='height:100px; width:100px;'>\n",
    "<img src='images/file.png' style='height:100px; width:100px;'>\n",
    "<img src='images/check-square.png' style='height:100px; width:100px;'>\n",
    "</div>\n",
    "<br>\n",
    "\n",
    "Collaborative effort by Mozilla, Google, Apple, Microsoft ...\n"
   ]
  },
  {
   "cell_type": "markdown",
   "metadata": {
    "slideshow": {
     "slide_type": "slide"
    }
   },
   "source": [
    "# ... for executable code\n",
    "\n",
    "<br>\n",
    "<div style='display:flex; width:100%'>\n",
    "<img src='images/group.png' style='height:100px; width:100px;'>\n",
    "<img src='images/rocket.png' style='height:200px; width:200px;'>\n",
    "<img src='images/file.png' style='height:100px; width:100px;'>\n",
    "<img src='images/check-square.png' style='height:100px; width:100px;'>\n",
    "</div>\n",
    "<br>\n",
    "\n",
    "It's fast!"
   ]
  },
  {
   "cell_type": "markdown",
   "metadata": {
    "slideshow": {
     "slide_type": "slide"
    }
   },
   "source": [
    "\n",
    "# It has a compact binary format\n",
    "\n",
    "<br>\n",
    "<div style='display:flex; width:100%'>\n",
    "<img src='images/group.png' style='height:100px; width:100px;'>\n",
    "<img src='images/rocket.png' style='height:100px; width:100px;'>\n",
    "<img src='images/file.png' style='height:200px; width:200px;'>\n",
    "<img src='images/check-square.png' style='height:100px; width:100px;'>\n",
    "</div>\n",
    "<br>\n",
    "\n",
    "And a human readable counterpart:\n",
    "\n",
    "```wasm\n",
    "(module\n",
    "(type $print (func (param i32))\n",
    "(func $main\n",
    "    (i32.const 42)\n",
    "    (call $print)\n",
    ")\n",
    "(start $main)\n",
    ")\n",
    "```"
   ]
  },
  {
   "cell_type": "markdown",
   "metadata": {
    "slideshow": {
     "slide_type": "slide"
    }
   },
   "source": [
    "\n",
    "# It's safe\n",
    "\n",
    "<br>\n",
    "<div style='display:flex; width:100%'>\n",
    "<img src='images/group.png' style='height:100px; width:100px;'>\n",
    "<img src='images/rocket.png' style='height:100px; width:100px;'>\n",
    "<img src='images/file.png' style='height:100px; width:100px;'>\n",
    "<img src='images/check-square.png' style='height:200px; width:200px;'>\n",
    "</div>\n",
    "<br>\n",
    "\n",
    "Because browsers."
   ]
  },
  {
   "cell_type": "markdown",
   "metadata": {
    "slideshow": {
     "slide_type": "slide"
    }
   },
   "source": [
    "# WebAssembly is coming and it's awesome!\n",
    "\n",
    "<br>\n",
    "<div style='display:flex; width:100%'>\n",
    "<img src='images/group.png' style='height:50px; width:50px;'>\n",
    "<img src='images/rocket.png' style='height:50px; width:50px;'>\n",
    "<img src='images/file.png' style='height:50px; width:50px;'>\n",
    "<img src='images/check-square.png' style='height:50px; width:50px;'>\n",
    "</div>\n",
    "<br><br>\n",
    "\n",
    "<center>\n",
    "<img src='images/so-much-awesome-meme.jpg' width=400px>\n",
    "</center>\n"
   ]
  },
  {
   "cell_type": "markdown",
   "metadata": {
    "slideshow": {
     "slide_type": "slide"
    }
   },
   "source": [
    "# WebAssembly adoption"
   ]
  },
  {
   "cell_type": "markdown",
   "metadata": {
    "slideshow": {
     "slide_type": "slide"
    }
   },
   "source": [
    "# Lua community\n",
    "\n",
    "Let's write web apps in Lua!\n",
    "\n",
    "<center><img src='images/celebrate.jpg' width=300></center>"
   ]
  },
  {
   "cell_type": "markdown",
   "metadata": {
    "slideshow": {
     "slide_type": "slide"
    }
   },
   "source": [
    "# Rust community\n",
    "\n",
    "Let's write apps in Rust!!\n",
    "\n",
    "<center><img src='images/celebrate.jpg' width=300></center>\n",
    "\n"
   ]
  },
  {
   "cell_type": "markdown",
   "metadata": {
    "slideshow": {
     "slide_type": "slide"
    }
   },
   "source": [
    "# JavaScript community\n",
    "\n",
    "\n",
    "Yes, this may end our suffering!\n",
    "\n",
    "<center><img src='images/celebrate.jpg' width=300></center>"
   ]
  },
  {
   "cell_type": "markdown",
   "metadata": {
    "slideshow": {
     "slide_type": "slide"
    }
   },
   "source": [
    "# C++ community\n",
    "\n",
    "Let's write web apps in C++!\n",
    "\n",
    "\n",
    "<center><img src='images/celebrate.jpg' width=200px><img src='images/facepalm.jpg' width=200px>\n",
    "</center>\n",
    "\n",
    "\n"
   ]
  },
  {
   "cell_type": "markdown",
   "metadata": {
    "slideshow": {
     "slide_type": "slide"
    }
   },
   "source": [
    "# Python community\n",
    "\n",
    "<br><br><br>\n",
    "\n",
    "...\n"
   ]
  },
  {
   "cell_type": "markdown",
   "metadata": {
    "slideshow": {
     "slide_type": "slide"
    }
   },
   "source": [
    "# WASM may not be obvious for Python\n",
    "\n",
    "* Because Python is an *interpreted* language"
   ]
  },
  {
   "cell_type": "markdown",
   "metadata": {
    "slideshow": {
     "slide_type": "slide"
    }
   },
   "source": [
    "# Three use-cases how we can embrace WASM"
   ]
  },
  {
   "cell_type": "markdown",
   "metadata": {
    "slideshow": {
     "slide_type": "slide"
    }
   },
   "source": [
    "# Use case 1: Compile a Python interpreter\n",
    "\n"
   ]
  },
  {
   "cell_type": "markdown",
   "metadata": {
    "slideshow": {
     "slide_type": "slide"
    }
   },
   "source": [
    "# Examples\n",
    "\n",
    "\n",
    "* Pyodide: compiles CPython + numpy/pandas/matplotlib, to run in the browser\n",
    "* PyPyJS\n",
    "* MicroPython\n",
    "* RsPython: Python interpreter written in Rust\n",
    "\n",
    "Note: Python code is still run in a VM!"
   ]
  },
  {
   "cell_type": "markdown",
   "metadata": {
    "slideshow": {
     "slide_type": "slide"
    }
   },
   "source": [
    "# Use case 2: Compile a subset of Python to WASM"
   ]
  },
  {
   "cell_type": "markdown",
   "metadata": {
    "slideshow": {
     "slide_type": "slide"
    }
   },
   "source": [
    "# Use case 3: Run WASM in Python\n",
    "    \n",
    "    ... and allow that code to call into Python functions ..."
   ]
  },
  {
   "cell_type": "markdown",
   "metadata": {
    "slideshow": {
     "slide_type": "slide"
    }
   },
   "source": [
    "# Rocket game\n",
    "\n",
    "<center>\n",
    "    <!-- <a href='https://thread-safe.nl/rocket/' target='new'> -->\n",
    "    <a href='rocket.html' target='new'>\n",
    "    <img src='images/github_rocket_wasm.png' width=900>\n",
    "    </a>\n",
    "</center>"
   ]
  },
  {
   "cell_type": "markdown",
   "metadata": {
    "slideshow": {
     "slide_type": "slide"
    }
   },
   "source": [
    "# Single binary WASM file (58 KB)\n",
    "\n",
    "<center>    \n",
    "    <img src='images/github_rocket_wasm_html.png' width=600>\n",
    "</center>\n",
    "\n"
   ]
  },
  {
   "cell_type": "code",
   "execution_count": null,
   "metadata": {},
   "outputs": [],
   "source": [
    "from ppci import wasm\n",
    "\n",
    "m = wasm.Module(open(r'rocket.wasm', 'rb'))\n",
    "m"
   ]
  },
  {
   "cell_type": "code",
   "execution_count": null,
   "metadata": {
    "slideshow": {
     "slide_type": "slide"
    }
   },
   "outputs": [],
   "source": [
    "m.show_interface()"
   ]
  },
  {
   "cell_type": "code",
   "execution_count": null,
   "metadata": {},
   "outputs": [],
   "source": [
    "%display rocket.py"
   ]
  },
  {
   "cell_type": "code",
   "execution_count": null,
   "metadata": {
    "slideshow": {
     "slide_type": "slide"
    }
   },
   "outputs": [],
   "source": [
    "import time\n",
    "import math\n",
    "\n",
    "class BaseRocketGame:\n",
    "    \n",
    "    def _instantiate(self):\n",
    "        \"\"\" Instantiate the wasm module, using the objects' methods as imports.\n",
    "        \"\"\"\n",
    "        env = {}\n",
    "        for name in dir(self):\n",
    "            if name.startswith('wasm_'):\n",
    "                env[name[5:]] = getattr(self, name)\n",
    "        imports = dict(env=env)\n",
    "        \n",
    "        import ppci.wasm.instantiate # TODO: UGLY\n",
    "        self.wam = wasm.instantiate.instantiate(m, imports, target='python')\n",
    "    \n",
    "    def __init__(self):\n",
    "        self._instantiate()\n",
    "    \n",
    "    def run(self, t=None):\n",
    "        \"\"\" Enter the game's main loop.\n",
    "        \"\"\"\n",
    "        self.wam.exports.resize(100, 100)\n",
    "        et = time.time() + (1e12 if t is None else t)\n",
    "        while time.time() < et:\n",
    "            time.sleep(0.5)\n",
    "            self.wam.exports.update(0.1)\n",
    "            self.wam.exports.draw()\n",
    "            \n",
    "            # We never call these ...\n",
    "            # self.wam.exports.toggle_shoot(b)\n",
    "            # self.wam.exports.toggle_turn_left(b)\n",
    "            # self.wam.exports.toggle_turn_right(b)\n",
    "            # self.wam.exports.toggle_boost(b)\n",
    "    \n",
    "    def wasm_sin(self, a:float) -> float:\n",
    "        return math.sin(a)\n",
    "    \n",
    "    def wasm_cos(self, a:float) -> float:\n",
    "        return math.cos(a)\n",
    "    \n",
    "    def wasm_Math_atan(self, a:float) -> float:\n",
    "        return math.atan(a)\n",
    "    \n",
    "    def wasm_clear_screen(self) -> None:\n",
    "        print('clearing screen')\n",
    "    \n",
    "    def wasm_draw_bullet(self, x:float, y:float) -> None:\n",
    "        print(f'There is a bullet at {x}, {y}')\n",
    "    \n",
    "    def wasm_draw_enemy(self, x:float, y:float) -> None:\n",
    "        print(f'There is an enemy at {x}, {y}')\n",
    "    \n",
    "    def wasm_draw_particle(self, x:float, y:float, a:float) -> None:\n",
    "        print(f'There is a particle at {x}, {y} angle {a}')\n",
    "    \n",
    "    def wasm_draw_player(self, x:float, y:float, a:float) -> None:\n",
    "        print(f'The player is at {x}, {y} angle {a}')\n",
    "    \n",
    "    def wasm_draw_score(self, score:float) -> None:\n",
    "        print(f'The score is {score}!')"
   ]
  },
  {
   "cell_type": "markdown",
   "metadata": {
    "slideshow": {
     "slide_type": "slide"
    }
   },
   "source": [
    "# Run Rocket in Python"
   ]
  },
  {
   "cell_type": "code",
   "execution_count": null,
   "metadata": {
    "slideshow": {
     "slide_type": "-"
    }
   },
   "outputs": [],
   "source": [
    "game = BaseRocketGame()"
   ]
  },
  {
   "cell_type": "code",
   "execution_count": null,
   "metadata": {},
   "outputs": [],
   "source": [
    "game.run(5)"
   ]
  },
  {
   "cell_type": "markdown",
   "metadata": {
    "slideshow": {
     "slide_type": "slide"
    }
   },
   "source": [
    "# Run Rocket in Python with Qt"
   ]
  },
  {
   "cell_type": "code",
   "execution_count": null,
   "metadata": {
    "slideshow": {
     "slide_type": "-"
    }
   },
   "outputs": [],
   "source": [
    "from rocket_qt import QtRocketGame\n",
    "import logging\n",
    "logging.getLogger().setLevel(logging.WARN)\n",
    "game = QtRocketGame()"
   ]
  },
  {
   "cell_type": "code",
   "execution_count": null,
   "metadata": {},
   "outputs": [],
   "source": [
    "game.run()"
   ]
  },
  {
   "cell_type": "markdown",
   "metadata": {
    "slideshow": {
     "slide_type": "slide"
    }
   },
   "source": [
    "# Run Rocket in Python with prompt_toolkit\n",
    "\n",
    "Over SSH :)"
   ]
  },
  {
   "cell_type": "markdown",
   "metadata": {
    "slideshow": {
     "slide_type": "slide"
    }
   },
   "source": [
    "# Is Rocket hard to play?\n",
    "\n",
    "Let's make an AI!"
   ]
  },
  {
   "cell_type": "code",
   "execution_count": 1,
   "metadata": {},
   "outputs": [],
   "source": [
    "from ppci import wasm\n",
    "\n",
    "ai = wasm.Module(open('ai.wasm', 'rb'))"
   ]
  },
  {
   "cell_type": "code",
   "execution_count": 2,
   "metadata": {},
   "outputs": [
    {
     "name": "stdout",
     "output_type": "stream",
     "text": [
      "Imports:\n",
      "  env.atan:          [f32] -> [f32]\n",
      "  env.cos:           [f32] -> [f32]\n",
      "  env.sin:           [f32] -> [f32]\n",
      "  env.toggle_shoot:  [i32] -> []\n",
      "  env.toggle_turn_left: [i32] -> []\n",
      "  env.toggle_turn_right: [i32] -> []\n",
      "Exports:\n",
      "  memory:            \"memory\"\n",
      "  main:              [] -> [i32]\n",
      "  clear_screen:      [] -> []\n",
      "  draw_player:       [f32, f32, f32] -> []\n",
      "  draw_enemy:        [f32, f32] -> []\n"
     ]
    }
   ],
   "source": [
    "ai.show_interface()"
   ]
  },
  {
   "cell_type": "code",
   "execution_count": null,
   "metadata": {},
   "outputs": [],
   "source": []
  }
 ],
 "metadata": {
  "anaconda-cloud": {},
  "celltoolbar": "Slideshow",
  "kernelspec": {
   "display_name": "Python [default]",
   "language": "python",
   "name": "python3"
  },
  "language_info": {
   "codemirror_mode": {
    "name": "ipython",
    "version": 3
   },
   "file_extension": ".py",
   "mimetype": "text/x-python",
   "name": "python",
   "nbconvert_exporter": "python",
   "pygments_lexer": "ipython3",
   "version": "3.6.1"
  }
 },
 "nbformat": 4,
 "nbformat_minor": 2
}
